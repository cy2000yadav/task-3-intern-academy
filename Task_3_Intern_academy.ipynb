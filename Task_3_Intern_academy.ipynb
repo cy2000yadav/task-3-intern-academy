{
  "nbformat": 4,
  "nbformat_minor": 0,
  "metadata": {
    "colab": {
      "name": "Task 3 Intern academy.ipynb",
      "provenance": [],
      "collapsed_sections": []
    },
    "kernelspec": {
      "name": "python3",
      "display_name": "Python 3"
    },
    "language_info": {
      "name": "python"
    }
  },
  "cells": [
    {
      "cell_type": "markdown",
      "metadata": {
        "id": "SY6F40moKRG6"
      },
      "source": [
        "# **The Intern Academy Data Science Monsoon Internship**\n",
        "## **Team Name: Data Divers**\n",
        "\n",
        "## **Team Members**: \n",
        "1.Chaitanya Gajanan Yadav\n",
        "\n",
        "2.Yash Ajit Paddalwar\n",
        "\n",
        "3.Sarvesh Giridhar Gore\n",
        "\n",
        "# **TASK 3:**\n",
        "**Problem Statement**:\n",
        "\n",
        "In today’s world banking is also a platform which is almost automated. However many people face different issues during online banking and also many are not aware of correct safety measure for their accounts. To create a bot using Natural Language Processing and deep learning which will be able to give answers for various banking related issues like your bank id, transaction details, Security services, loan policies, your account status etc.\n",
        "\n",
        "Here the objectives are:-\n",
        "\n",
        "To create a bot mobile app which can give answers to all your banking related queries.\n",
        "\n",
        "Keep you updated with your transaction activity so any kind fraud can be avoided.\n",
        "\n",
        "Also give you alert signs if find any suspicious activity in your account.\n"
      ]
    },
    {
      "cell_type": "markdown",
      "metadata": {
        "id": "QpIZd2YiRumR"
      },
      "source": [
        "## **DONE BY SARVESH GIRIDHAR GORE**"
      ]
    },
    {
      "cell_type": "code",
      "metadata": {
        "id": "HxffpHNepb_8"
      },
      "source": [
        "## Now we will be Importing all the libraries\n",
        "import pandas as pd\n",
        "import numpy as np\n",
        "import pickle\n",
        "import operator"
      ],
      "execution_count": null,
      "outputs": []
    },
    {
      "cell_type": "code",
      "metadata": {
        "id": "z6dnjCI6pdc6"
      },
      "source": [
        "## Pre Processing Data\n",
        "from sklearn.svm import SVC\n",
        "from sklearn.model_selection import train_test_split as tts\n",
        "from sklearn.feature_extraction.text import TfidfVectorizer\n",
        "from sklearn.preprocessing import LabelEncoder as LE\n",
        "from sklearn.metrics.pairwise import cosine_similarity"
      ],
      "execution_count": null,
      "outputs": []
    },
    {
      "cell_type": "code",
      "metadata": {
        "id": "Yig1u4CCpj34"
      },
      "source": [
        "## Now we will Importing random and nltk\n",
        "import random\n",
        "import nltk"
      ],
      "execution_count": null,
      "outputs": []
    },
    {
      "cell_type": "markdown",
      "metadata": {
        "id": "rPdYnKfAppfx"
      },
      "source": [
        "\n",
        "### NLTK is a set of libraries for Natural Language Processing. It is a platform for building Python Progreams to process natural language. Mainly used for Q&A and Chatbots.\n",
        "\n",
        "### The Random module provide accesss to functions that support types of functions like choosing a random number, calls, query etc.\n",
        "\n",
        "### Stemming is a technique used to extract the base form of the words by removing affixes from them. It is just like cutting down the branches of a tree to its stems. For example, the stem of the words eating, eats, eaten is eat.\n"
      ]
    },
    {
      "cell_type": "code",
      "metadata": {
        "id": "nYIrkZB-pl35"
      },
      "source": [
        "from nltk.stem.lancaster import LancasterStemmer"
      ],
      "execution_count": null,
      "outputs": []
    },
    {
      "cell_type": "code",
      "metadata": {
        "id": "nZJEOZC2psX4"
      },
      "source": [
        "stemmer = LancasterStemmer()"
      ],
      "execution_count": null,
      "outputs": []
    },
    {
      "cell_type": "code",
      "metadata": {
        "id": "nrMPNtaZpu9Q"
      },
      "source": [
        "def cleanup(sentence):\n",
        "    word_tok = nltk.word_tokenize(sentence)\n",
        "    stemmed_words = [stemmer.stem(w) for w in word_tok]\n",
        "\n",
        "    return ' '.join(stemmed_words)"
      ],
      "execution_count": null,
      "outputs": []
    },
    {
      "cell_type": "code",
      "metadata": {
        "id": "it1lwCHNpwPp"
      },
      "source": [
        "le = LE()"
      ],
      "execution_count": null,
      "outputs": []
    },
    {
      "cell_type": "code",
      "metadata": {
        "id": "LGLaBBFQpx14"
      },
      "source": [
        "tfv = TfidfVectorizer(min_df=1, stop_words='english')"
      ],
      "execution_count": null,
      "outputs": []
    },
    {
      "cell_type": "code",
      "metadata": {
        "id": "Q4iBFfeKpzzA"
      },
      "source": [
        "data = pd.read_csv('https://raw.githubusercontent.com/MrJay10/banking-faq-bot/master/BankFAQs.csv')\n",
        "questions = data['Question'].values"
      ],
      "execution_count": null,
      "outputs": []
    },
    {
      "cell_type": "markdown",
      "metadata": {
        "id": "q6VUyBMbp4cz"
      },
      "source": [
        "## **DONE BY CHAITANYA GAJANAN YADAV**\n"
      ]
    },
    {
      "cell_type": "code",
      "metadata": {
        "colab": {
          "base_uri": "https://localhost:8080/"
        },
        "id": "HMfCQBKAp1iq",
        "outputId": "37618584-2be3-4602-d5ee-7f313c7589d9"
      },
      "source": [
        "import nltk\n",
        "nltk.download('punkt')"
      ],
      "execution_count": null,
      "outputs": [
        {
          "output_type": "stream",
          "name": "stdout",
          "text": [
            "[nltk_data] Downloading package punkt to /root/nltk_data...\n",
            "[nltk_data]   Unzipping tokenizers/punkt.zip.\n"
          ]
        },
        {
          "output_type": "execute_result",
          "data": {
            "text/plain": [
              "True"
            ]
          },
          "metadata": {},
          "execution_count": 10
        }
      ]
    },
    {
      "cell_type": "code",
      "metadata": {
        "id": "Gkg8Qj_-p3cn"
      },
      "source": [
        "X = []\n",
        "for question in questions:\n",
        "    X.append(cleanup(question))\n"
      ],
      "execution_count": null,
      "outputs": []
    },
    {
      "cell_type": "code",
      "metadata": {
        "colab": {
          "base_uri": "https://localhost:8080/"
        },
        "id": "Bis9MvPIIpHw",
        "outputId": "aab4a9c0-4007-417e-c6a3-4ae88004b459"
      },
      "source": [
        "tfv.fit(X)\n",
        "le.fit(data['Class'])\n"
      ],
      "execution_count": null,
      "outputs": [
        {
          "output_type": "execute_result",
          "data": {
            "text/plain": [
              "LabelEncoder()"
            ]
          },
          "metadata": {},
          "execution_count": 13
        }
      ]
    },
    {
      "cell_type": "markdown",
      "metadata": {
        "id": "Q_HLFYtsI7sk"
      },
      "source": [
        "## **DONE BY YASH AJIT PADDALWAR**"
      ]
    },
    {
      "cell_type": "markdown",
      "metadata": {
        "id": "w8vVT_EIIk4U"
      },
      "source": [
        "## Training Data\n"
      ]
    },
    {
      "cell_type": "code",
      "metadata": {
        "id": "MQToD3YsKKDa"
      },
      "source": [
        "X = tfv.transform(X)\n",
        "y = le.transform(data['Class'])"
      ],
      "execution_count": null,
      "outputs": []
    },
    {
      "cell_type": "code",
      "metadata": {
        "id": "YVPNxqp2I4cv"
      },
      "source": [
        "trainx, testx, trainy, testy = tts(X, y, test_size=.25, random_state=42)"
      ],
      "execution_count": null,
      "outputs": []
    },
    {
      "cell_type": "code",
      "metadata": {
        "colab": {
          "base_uri": "https://localhost:8080/"
        },
        "id": "ChAvfrTrI4fW",
        "outputId": "18da6d33-3450-45bb-bfe0-89e6e50a1057"
      },
      "source": [
        "model = SVC(kernel='linear')\n",
        "model.fit(trainx, trainy)\n",
        "print(\"SVC:\", model.score(testx, testy))"
      ],
      "execution_count": null,
      "outputs": [
        {
          "output_type": "stream",
          "name": "stdout",
          "text": [
            "SVC: 0.927437641723356\n"
          ]
        }
      ]
    },
    {
      "cell_type": "code",
      "metadata": {
        "id": "mezhuWk8I4hx"
      },
      "source": [
        "def get_max5(arr):\n",
        "    ixarr = []\n",
        "    for ix, el in enumerate(arr):\n",
        "        ixarr.append((el, ix))\n",
        "    ixarr.sort()\n",
        "\n",
        "    ixs = []\n",
        "    for i in ixarr[-5:]:\n",
        "        ixs.append(i[1])\n",
        "\n",
        "    return ixs[::-1]"
      ],
      "execution_count": null,
      "outputs": []
    },
    {
      "cell_type": "markdown",
      "metadata": {
        "id": "zntk4309JeMO"
      },
      "source": [
        "\n",
        "## Chatbot for banking related queries"
      ]
    },
    {
      "cell_type": "code",
      "metadata": {
        "colab": {
          "base_uri": "https://localhost:8080/"
        },
        "id": "2LxBqA9UI4lR",
        "outputId": "39e52a6e-a3a6-494d-f631-1b2818c9819d"
      },
      "source": [
        "def chat():\n",
        "    cnt = 0\n",
        "    print(\"PRESS Q to QUIT\")\n",
        "    print(\"TYPE \\\"DEBUG\\\" to Display Debugging statements.\")\n",
        "    print(\"TYPE \\\"STOP\\\" to Stop Debugging statements.\")\n",
        "    print(\"TYPE \\\"TOP5\\\" to Display 5 most relevent results\")\n",
        "    print(\"TYPE \\\"CONF\\\" to Display the most confident result\")\n",
        "    print()\n",
        "    print()\n",
        "    DEBUG = False\n",
        "    TOP5 = False\n",
        "\n",
        "    print(\"Bot: Hi, Welcome to our bank!\")\n",
        "    while True:\n",
        "        usr = input(\"You: \")\n",
        "\n",
        "        if usr.lower() == 'yes':\n",
        "            print(\"Bot: Yes!\")\n",
        "            continue\n",
        "\n",
        "        if usr.lower() == 'no':\n",
        "            print(\"Bot: No?\")\n",
        "            continue\n",
        "\n",
        "        if usr == 'DEBUG':\n",
        "            DEBUG = True\n",
        "            print(\"Debugging mode on\")\n",
        "            continue\n",
        "            \n",
        "        if usr == 'STOP':\n",
        "            DEBUG = False\n",
        "            print(\"Debugging mode off\")\n",
        "            continue\n",
        "\n",
        "        if usr == 'Q':\n",
        "            print(\"Bot: It was good to be of help.\")\n",
        "            break\n",
        "\n",
        "        if usr == 'TOP5':\n",
        "            TOP5 = True\n",
        "            print(\"Will display 5 most relevent results now\")\n",
        "            continue\n",
        "\n",
        "        if usr == 'CONF':\n",
        "            TOP5 = False\n",
        "            print(\"Only the most relevent result will be displayed\")\n",
        "            continue\n",
        "\n",
        "        t_usr = tfv.transform([cleanup(usr.strip().lower())])\n",
        "        class_ = le.inverse_transform(model.predict(t_usr)[0])\n",
        "        questionset = data[data['Class']==class_]\n",
        "        \n",
        "        if DEBUG:\n",
        "            print(\"Question classified under category:\", class_)\n",
        "            print(\"{} Questions belong to this class\".format(len(questionset)))\n",
        "\n",
        "        cos_sims = []\n",
        "        for question in questionset['Question']:\n",
        "            sims = cosine_similarity(tfv.transform([question]), t_usr)\n",
        "            cos_sims.append(sims)\n",
        "            \n",
        "        ind = cos_sims.index(max(cos_sims))\n",
        "\n",
        "        if DEBUG:\n",
        "            question = questionset[\"Question\"][questionset.index[ind]]\n",
        "            print(\"Assuming you asked: {}\".format(question))\n",
        "\n",
        "        if not TOP5:\n",
        "            print(\"Bot:\", data['Answer'][questionset.index[ind]])\n",
        "        else:\n",
        "            inds = get_max5(cos_sims)\n",
        "            for ix in inds:\n",
        "                print(\"Question: \"+data['Question'][questionset.index[ix]])\n",
        "                print(\"Answer: \"+data['Answer'][questionset.index[ix]])\n",
        "                print('-'*50)\n",
        "\n",
        "        print(\"\\n\"*2)\n",
        "        outcome = input(\"Was this answer helpful? Yes/No: \").lower().strip()\n",
        "        if outcome == 'yes':\n",
        "            cnt = 0\n",
        "        elif outcome == 'no':\n",
        "            inds = get_max5(cos_sims)\n",
        "            sugg_choice = input(\"Bot: Do you want me to suggest you questions ? Yes/No: \").lower()\n",
        "            if sugg_choice == 'yes':\n",
        "                q_cnt = 1\n",
        "                for ix in inds:\n",
        "                    print(q_cnt,\"Question: \"+data['Question'][questionset.index[ix]])\n",
        "                    # print(\"Answer: \"+data['Answer'][questionset.index[ix]])\n",
        "                    print('-'*50)\n",
        "                    q_cnt += 1\n",
        "                num = int(input(\"Please enter the question number you find most relevant: \"))\n",
        "                print(\"Bot: \", data['Answer'][questionset.index[inds[num-1]]])\n",
        "\n",
        "\n",
        "chat()"
      ],
      "execution_count": null,
      "outputs": [
        {
          "output_type": "stream",
          "name": "stdout",
          "text": [
            "PRESS Q to QUIT\n",
            "TYPE \"DEBUG\" to Display Debugging statements.\n",
            "TYPE \"STOP\" to Stop Debugging statements.\n",
            "TYPE \"TOP5\" to Display 5 most relevent results\n",
            "TYPE \"CONF\" to Display the most confident result\n",
            "\n",
            "\n",
            "Bot: Hi, Welcome to our bank!\n",
            "You: TOP5\n",
            "Will display 5 most relevent results now\n",
            "You: STOP\n",
            "Debugging mode off\n",
            "You: Q\n",
            "Bot: It was good to be of help.\n"
          ]
        }
      ]
    },
    {
      "cell_type": "markdown",
      "metadata": {
        "id": "rnbGM_k9SUBs"
      },
      "source": [
        "# **Thank You**"
      ]
    }
  ]
}